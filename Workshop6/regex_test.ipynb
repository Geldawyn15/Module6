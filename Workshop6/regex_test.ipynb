{
 "cells": [
  {
   "cell_type": "code",
   "execution_count": 45,
   "metadata": {},
   "outputs": [],
   "source": [
    "import re  \n",
    "\n",
    "regex = r\"\\\\test\"    "
   ]
  },
  {
   "cell_type": "code",
   "execution_count": 46,
   "metadata": {},
   "outputs": [],
   "source": [
    "expression = r\"\\\"?([-a-zA-Z0-9.`?{}]+@\\w+\\.\\w+)\\\"?\"  "
   ]
  },
  {
   "cell_type": "code",
   "execution_count": 47,
   "metadata": {},
   "outputs": [],
   "source": [
    "expression = re.compile('data')"
   ]
  },
  {
   "cell_type": "code",
   "execution_count": 48,
   "metadata": {},
   "outputs": [],
   "source": [
    "x = re.compile(expression)"
   ]
  },
  {
   "cell_type": "code",
   "execution_count": 49,
   "metadata": {},
   "outputs": [],
   "source": [
    "expression = r\"\\\"?([-a-zA-Z0-9.`?{}]+@\\w+\\.\\w+)\\\"?\"  \n",
    "x = re.compile(expression, re.IGNORECASE)"
   ]
  },
  {
   "cell_type": "code",
   "execution_count": 50,
   "metadata": {},
   "outputs": [
    {
     "name": "stdout",
     "output_type": "stream",
     "text": [
      "tous\n"
     ]
    }
   ],
   "source": [
    "chaine = \"Bonjour tous le monde\"\n",
    "req = re.search(r\"tous\", chaine, re.I)\n",
    "print(req.group())"
   ]
  },
  {
   "cell_type": "code",
   "execution_count": 51,
   "metadata": {},
   "outputs": [
    {
     "name": "stdout",
     "output_type": "stream",
     "text": [
      "tous\n",
      "8\n",
      "12\n",
      "(8, 12)\n"
     ]
    }
   ],
   "source": [
    "import re\n",
    "chaine = \"Bonjour tous le monde\"\n",
    "req = re.search(r\"tous\", chaine, re.I)\n",
    "print(req.group())\n",
    "print(req.start())\n",
    "print(req.end())\n",
    "print(req.span())\n",
    "\n"
   ]
  },
  {
   "cell_type": "code",
   "execution_count": 52,
   "metadata": {},
   "outputs": [
    {
     "name": "stdout",
     "output_type": "stream",
     "text": [
      "['123', '124']\n"
     ]
    }
   ],
   "source": [
    "import re  \n",
    "texte = \"\"\"Vous êtes au numero 123\n",
    "            le suivant sera donc 124\"\"\"\n",
    "\n",
    "regex = '\\d+'             \n",
    "    \n",
    "res = re.findall(regex, texte) \n",
    "print(res) "
   ]
  },
  {
   "cell_type": "code",
   "execution_count": 53,
   "metadata": {},
   "outputs": [
    {
     "name": "stdout",
     "output_type": "stream",
     "text": [
      "Vous êtes au numero \n",
      "            le suivant sera donc \n"
     ]
    }
   ],
   "source": [
    "import re  \n",
    "texte = \"\"\"Vous êtes au numero 123\n",
    "            le suivant sera donc 124\"\"\"\n",
    "\n",
    "regex = '\\d+'             \n",
    "    \n",
    "res = re.sub(r'\\d',\"\",texte)\n",
    "print(res) "
   ]
  },
  {
   "cell_type": "code",
   "execution_count": 54,
   "metadata": {},
   "outputs": [
    {
     "name": "stdout",
     "output_type": "stream",
     "text": [
      "Vous êtes au numero 23\n",
      "            le suivant sera donc 124\n"
     ]
    }
   ],
   "source": [
    "import re  \n",
    "texte = \"\"\"Vous êtes au numero 123\n",
    "            le suivant sera donc 124\"\"\"\n",
    "\n",
    "regex = '\\d+'             \n",
    "    \n",
    "res = re.sub(r'\\d',\"\",texte, count=1)\n",
    "print(res) "
   ]
  },
  {
   "cell_type": "code",
   "execution_count": 55,
   "metadata": {},
   "outputs": [
    {
     "name": "stdout",
     "output_type": "stream",
     "text": [
      "('Vous êtes au numero \\n            le suivant sera donc ', 6)\n"
     ]
    }
   ],
   "source": [
    "import re  \n",
    "texte = \"\"\"Vous êtes au numero 123\n",
    "            le suivant sera donc 124\"\"\"\n",
    "\n",
    "regex = '\\d+'             \n",
    "    \n",
    "res = re.subn(r'\\d',\"\",texte)\n",
    "print(res) "
   ]
  },
  {
   "cell_type": "code",
   "execution_count": 56,
   "metadata": {},
   "outputs": [
    {
     "data": {
      "text/plain": [
       "('123', '456')"
      ]
     },
     "execution_count": 56,
     "metadata": {},
     "output_type": "execute_result"
    }
   ],
   "source": [
    "import re  \n",
    "m = re.match(r\"(\\d+)\\.(\\d+)\", \"123.456\")\n",
    "m.groups()"
   ]
  },
  {
   "cell_type": "code",
   "execution_count": 57,
   "metadata": {},
   "outputs": [
    {
     "data": {
      "text/plain": [
       "'123'"
      ]
     },
     "execution_count": 57,
     "metadata": {},
     "output_type": "execute_result"
    }
   ],
   "source": [
    "m.group(1)"
   ]
  },
  {
   "cell_type": "code",
   "execution_count": 58,
   "metadata": {},
   "outputs": [
    {
     "data": {
      "text/plain": [
       "'456'"
      ]
     },
     "execution_count": 58,
     "metadata": {},
     "output_type": "execute_result"
    }
   ],
   "source": [
    "m.group(2)"
   ]
  },
  {
   "cell_type": "code",
   "execution_count": 59,
   "metadata": {},
   "outputs": [
    {
     "name": "stdout",
     "output_type": "stream",
     "text": [
      "Email valide\n",
      "['test@exemple.com']\n"
     ]
    }
   ],
   "source": [
    "import re\n",
    "\n",
    "regex = r'\\b[A-Za-z0-9._%+-]+@[A-Za-z0-9.-]+\\.[A-Z|a-z]{2,}\\b'\n",
    "\n",
    "def verif(email):\n",
    " \n",
    "    # pass the regular expression\n",
    "    # and the string in search() method\n",
    "    if(re.match(regex, email)):\n",
    "        print(\"Email valide\")\n",
    " \n",
    "    else:\n",
    "        print(\"Email invalide\")\n",
    " \n",
    "\n",
    "email = \"test@exemple.com\"\n",
    "verif(email)\n",
    "# resultat : 'Email valide'  \n",
    "res = re.findall(regex, email) \n",
    "print (res)"
   ]
  },
  {
   "cell_type": "code",
   "execution_count": 61,
   "metadata": {},
   "outputs": [
    {
     "name": "stdout",
     "output_type": "stream",
     "text": [
      "Numero invalide\n"
     ]
    }
   ],
   "source": [
    "import re\n",
    "\n",
    "numero = \"+33 6 10 20 30 10\"\n",
    "\n",
    "regex = \"(0|\\\\+33|0033)[1-9][0-9]{8}\"\n",
    "\n",
    "if re.match(regex, numero) is not None :\n",
    "    \n",
    "    print(\"Numero valide\")\n",
    "\n",
    "else:\n",
    "    \n",
    "    print(\"Numero invalide\")"
   ]
  }
 ],
 "metadata": {
  "kernelspec": {
   "display_name": "base",
   "language": "python",
   "name": "python3"
  },
  "language_info": {
   "codemirror_mode": {
    "name": "ipython",
    "version": 3
   },
   "file_extension": ".py",
   "mimetype": "text/x-python",
   "name": "python",
   "nbconvert_exporter": "python",
   "pygments_lexer": "ipython3",
   "version": "3.11.5"
  }
 },
 "nbformat": 4,
 "nbformat_minor": 2
}
