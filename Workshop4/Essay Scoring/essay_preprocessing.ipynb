{
 "cells": [
  {
   "cell_type": "code",
   "execution_count": 21,
   "metadata": {},
   "outputs": [
    {
     "name": "stderr",
     "output_type": "stream",
     "text": [
      "[nltk_data] Downloading package stopwords to\n",
      "[nltk_data]     C:\\Users\\Utilisateur\\AppData\\Roaming\\nltk_data...\n",
      "[nltk_data]   Package stopwords is already up-to-date!\n"
     ]
    }
   ],
   "source": [
    "import pandas as pd\n",
    "import nltk\n",
    "from nltk import word_tokenize\n",
    "import string\n",
    "\n",
    "nltk.download('stopwords')\n",
    "\n",
    "\n",
    "test_df = pd.read_csv('test.csv')\n",
    "train_df = pd.read_csv('train.csv')"
   ]
  },
  {
   "cell_type": "code",
   "execution_count": 22,
   "metadata": {},
   "outputs": [],
   "source": [
    "#tokenize\n",
    "#stopwords\n",
    "#stemming"
   ]
  },
  {
   "cell_type": "code",
   "execution_count": 23,
   "metadata": {},
   "outputs": [],
   "source": [
    "text = 'This is a test sentence. theres a comma here, and another one here, and we get fancy with a semi colon here; and now we finish with a period.'"
   ]
  },
  {
   "cell_type": "code",
   "execution_count": 24,
   "metadata": {},
   "outputs": [],
   "source": [
    "def process_text(sentence : str) -> str:\n",
    "    translator = str.maketrans('', '', string.punctuation)\n",
    "    text_without_punctuation = sentence.translate(translator)\n",
    "    print(text_without_punctuation)\n",
    "    \n",
    "    tokens = word_tokenize(sentence)\n",
    "    print(tokens)\n",
    "\n"
   ]
  },
  {
   "cell_type": "code",
   "execution_count": 25,
   "metadata": {},
   "outputs": [
    {
     "name": "stdout",
     "output_type": "stream",
     "text": [
      "This is a test sentence theres a comma here and another one here and we get fancy with a semi colon here and now we finish with a period\n",
      "['This', 'is', 'a', 'test', 'sentence', '.', 'theres', 'a', 'comma', 'here', ',', 'and', 'another', 'one', 'here', ',', 'and', 'we', 'get', 'fancy', 'with', 'a', 'semi', 'colon', 'here', ';', 'and', 'now', 'we', 'finish', 'with', 'a', 'period', '.']\n"
     ]
    }
   ],
   "source": [
    "process_text(text)"
   ]
  }
 ],
 "metadata": {
  "kernelspec": {
   "display_name": "NLP",
   "language": "python",
   "name": "python3"
  },
  "language_info": {
   "codemirror_mode": {
    "name": "ipython",
    "version": 3
   },
   "file_extension": ".py",
   "mimetype": "text/x-python",
   "name": "python",
   "nbconvert_exporter": "python",
   "pygments_lexer": "ipython3",
   "version": "3.11.8"
  }
 },
 "nbformat": 4,
 "nbformat_minor": 2
}
